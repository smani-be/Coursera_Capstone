{
    "cells": [
        {
            "metadata": {},
            "cell_type": "markdown",
            "source": "# Segmenting and Clustering Neighborhoods in Toronto"
        },
        {
            "metadata": {},
            "cell_type": "markdown",
            "source": "## Week 3 Assignment"
        },
        {
            "metadata": {},
            "cell_type": "markdown",
            "source": "Import all the necessary libraries"
        },
        {
            "metadata": {},
            "cell_type": "code",
            "source": "import requests # library to handle requests\nimport pandas as pd # library for data analsysis\nimport numpy as np # library to handle data in a vectorized manner\nimport random # library for random number generation\nfrom bs4 import BeautifulSoup\nimport urllib.request, urllib.parse, urllib.error",
            "execution_count": 1,
            "outputs": []
        },
        {
            "metadata": {},
            "cell_type": "markdown",
            "source": "Read table data from wiki page and store in a data frame"
        },
        {
            "metadata": {},
            "cell_type": "code",
            "source": "url = 'https://en.wikipedia.org/wiki/List_of_postal_codes_of_Canada:_M'\nhtml = requests.get(url).content\ndf_list = pd.read_html(html)\ndf = df_list[0]",
            "execution_count": 2,
            "outputs": []
        },
        {
            "metadata": {},
            "cell_type": "markdown",
            "source": "Clean up table - remove rows with Borough = \"Not assigned\" and replace \"Neighbourhood\" with Borough name if Neighbourhood = \"Not assigned\""
        },
        {
            "metadata": {},
            "cell_type": "code",
            "source": "df = df[df.Borough != \"Not assigned\"]      \ndf['Neighbourhood'].replace(\"Not assigned\", df['Borough'])",
            "execution_count": 3,
            "outputs": [
                {
                    "output_type": "execute_result",
                    "execution_count": 3,
                    "data": {
                        "text/plain": "2                                              Parkwoods\n3                                       Victoria Village\n4                              Regent Park, Harbourfront\n5                       Lawrence Manor, Lawrence Heights\n6            Queen's Park, Ontario Provincial Government\n                             ...                        \n160        The Kingsway, Montgomery Road, Old Mill North\n165                                 Church and Wellesley\n168    Business reply mail Processing Centre, South C...\n169    Old Mill South, King's Mill Park, Sunnylea, Hu...\n178    Mimico NW, The Queensway West, South of Bloor,...\nName: Neighbourhood, Length: 103, dtype: object"
                    },
                    "metadata": {}
                }
            ]
        },
        {
            "metadata": {},
            "cell_type": "markdown",
            "source": "Print the size of the data frame"
        },
        {
            "metadata": {},
            "cell_type": "code",
            "source": "print(df.shape)",
            "execution_count": 4,
            "outputs": [
                {
                    "output_type": "stream",
                    "text": "(103, 3)\n",
                    "name": "stdout"
                }
            ]
        },
        {
            "metadata": {},
            "cell_type": "code",
            "source": "",
            "execution_count": null,
            "outputs": []
        }
    ],
    "metadata": {
        "kernelspec": {
            "name": "python3",
            "display_name": "Python 3.7",
            "language": "python"
        },
        "language_info": {
            "name": "python",
            "version": "3.7.9",
            "mimetype": "text/x-python",
            "codemirror_mode": {
                "name": "ipython",
                "version": 3
            },
            "pygments_lexer": "ipython3",
            "nbconvert_exporter": "python",
            "file_extension": ".py"
        }
    },
    "nbformat": 4,
    "nbformat_minor": 1
}